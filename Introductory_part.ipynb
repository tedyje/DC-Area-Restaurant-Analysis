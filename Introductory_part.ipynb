{
 "cells": [
  {
   "cell_type": "markdown",
   "metadata": {},
   "source": [
    "## Introduction: Background "
   ]
  },
  {
   "cell_type": "markdown",
   "metadata": {},
   "source": [
    "[Washington D.C](https://en.wikipedia.org/wiki/Washington,_D.C.) is the political capital city of the [United States](https://en.wikipedia.org/wiki/United_States). It is one of the most popular tourist destinations in the world and annually receives more than 20 million visitors. As of July, 2018 the [U.S. Census Bureau](https://www.census.gov/quickfacts/DC) estimated more than 702,444 people live in the city.\n",
    "[Washington D.C](https://en.wikipedia.org/wiki/Washington,_D.C.) has a diversified growing economy. Restaurant industry plays important role in the state's economy. According to [National Restaurant Association Report](https://restaurant.org/Downloads/PDFs/State-Statistics/dc.pdf), in 2018 the industry's estimated total sale was $4.4 billion with 2,447 eating and drinking locations. Due to these and other facts stakeholders might be interested in opening American Restaurant in Washington DC."
   ]
  },
  {
   "cell_type": "markdown",
   "metadata": {},
   "source": [
    "## Introduction: Business Problem "
   ]
  },
  {
   "cell_type": "markdown",
   "metadata": {},
   "source": [
    "In this study three major tasks will conducted:\n",
    "   1. Analysis of food venues distribution in Washington D.C\n",
    "   2. Analysis of restaurants distribution in Washington D.C and\n",
    "   3. Finding optimal locations for opening a new American restaurant.\n",
    "   \n",
    "In the first and second studies exploratory statistical analysis of food venues and restaurants will be conducted. While in the third study optimum locations for opening new American restaurants will be identified. The criterion implemented to get optimum locations were:\n",
    "* not populated with many restaurants\n",
    "* close to the center of Washington D.C and\n",
    "* no American restaurant exists in a certain distance range"
   ]
  },
  {
   "cell_type": "markdown",
   "metadata": {},
   "source": [
    "## Data"
   ]
  },
  {
   "cell_type": "markdown",
   "metadata": {},
   "source": [
    "Sources of data for this study were:\n",
    "* Candidate neighborhoods data for Washington D.C will be produced algorithmically.\n",
    "* Geographical data of the United States will be obtained from [US Government Catalog Portal](https://catalog.data.gov/dataset/tiger-line-shapefile-2017-nation-u-s-current-state-and-equivalent-national)\n",
    "* [OpenDataDC](https://opendata.dc.gov/): Data of 39 Neighborhood Clusters currently used by the District of Columbia for different purposes will be retrieved.\n",
    "* [Foursquare](https://foursquare.com/): Food venues including type and geographical locations will be obtained by calling **[Foursquare](https://foursquare.com/) API**.\n",
    "* [Mapbox](https://www.mapbox.com/): Approximate addresses of each neighborhoods will be acquired by calling **[Mapbox](https://www.mapbox.com/) reverse geocoding API**."
   ]
  },
  {
   "cell_type": "code",
   "execution_count": null,
   "metadata": {},
   "outputs": [],
   "source": []
  }
 ],
 "metadata": {
  "kernelspec": {
   "display_name": "Python",
   "language": "python",
   "name": "conda-env-python-py"
  },
  "language_info": {
   "codemirror_mode": {
    "name": "ipython",
    "version": 3
   },
   "file_extension": ".py",
   "mimetype": "text/x-python",
   "name": "python",
   "nbconvert_exporter": "python",
   "pygments_lexer": "ipython3",
   "version": "3.6.7"
  }
 },
 "nbformat": 4,
 "nbformat_minor": 4
}
