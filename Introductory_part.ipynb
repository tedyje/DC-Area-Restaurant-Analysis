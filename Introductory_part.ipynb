{
 "cells": [
  {
   "cell_type": "markdown",
   "metadata": {},
   "source": [
    "## Introduction: Background "
   ]
  },
  {
   "cell_type": "markdown",
   "metadata": {},
   "source": [
    "[Washington D.C](https://en.wikipedia.org/wiki/Washington,_D.C.) is the political capital city of the [United States](https://en.wikipedia.org/wiki/United_States). It is one of the most popular tourist destinations in the world and annually receives more than 20 million visitors. As of July, 2018 the [U.S. Census Bureau](https://www.census.gov/quickfacts/DC) estimated more than 702,444 people live in the city.\n",
    "[Washington D.C](https://en.wikipedia.org/wiki/Washington,_D.C.) has a diversified growing economy. Restaurant industry plays important role in the state's economy. According to [National Restaurant Association Report](https://restaurant.org/Downloads/PDFs/State-Statistics/dc.pdf), in 2018 the industry's estimated total sale was $4.4 billion with 2,447 eating and drinking locations. \n",
    "\n",
    "Due the facts Washington DC population is rising, number of workforce entering the city by day is expanding and among the visitors of the city most of them are internals might be the recipes for opening new American restaurant. Due to these and other facts stakeholders might be interested in opening American Restaurant in Washington DC."
   ]
  },
  {
   "cell_type": "markdown",
   "metadata": {},
   "source": [
    "## Introduction: Business Problem "
   ]
  },
  {
   "cell_type": "markdown",
   "metadata": {},
   "source": [
    "In this study three major tasks will conducted:\n",
    "   1. Analysis of food venues distribution in Washington D.C: In this part of the study basic statistical exploratory analysis will be conducted on food venues distribution  and some matplotlib plotting tools will be used to visualize the result \n",
    "   2. Analysis of restaurants distribution in Washington D.C: Again some exploratory analysis will be used in order to extract some important information about restaurants in Washington DC. Matplotlib plotting libraries will be used to visualize the result.\n",
    "   3. Finding optimal locations for opening a new American restaurant. Based on the milestones set for this project optimal locations will be identified and will be recommended for further studies\n",
    "   \n",
    "In the first and second studies exploratory statistical analysis of food venues and restaurants will be conducted. While in the third study optimum locations for opening new American restaurants will be identified. The criterion implemented to get optimum locations were:\n",
    "* not populated with many restaurants\n",
    "* close to the center of Washington D.C and\n",
    "* no American restaurant exists in a certain distance range"
   ]
  },
  {
   "cell_type": "markdown",
   "metadata": {},
   "source": [
    "## Data"
   ]
  },
  {
   "cell_type": "markdown",
   "metadata": {},
   "source": [
    "Sources of data for this study were:\n",
    "1. Geographical data of the United States will be obtained from [US Government Catalog Portal](https://catalog.data.gov/dataset/tiger-line-shapefile-2017-nation-u-s-current-state-and-equivalent-national): From Washington DC portal it is possible to find neighborhoods and their corresponding lats/lngs. However these neighborhoods are not suited for analysis because they don't have explicitly known radius and regular shape. Therefore in order to generate centers of circular shape neighborhoods having equal size throughout Washington DC we need to get the polygon geometry of Washington DC. We will extract it from the geographical shapely object of United states\n",
    "2. Centers of candidate neighborhoods data for Washington D.C will be produced algorithmically: In order to extract restaurant/food venues dataset from Foursquare in a certain neighborhood we need to know the neighborhoods center. For this purpose we will segment the entire Washington DC by generating square objects.  \n",
    "3. [OpenDataDC](https://opendata.dc.gov/): Data of 39 Neighborhood Clusters currently used by the District of Columbia for different purposes will be retrieved: Boundaries of clusters containing neighborhoods as shapely object were obtained from this website. We use it latter in order to visualize restaurant distribution using features of folium\n",
    "4. [Foursquare](https://foursquare.com/): Food venues including type and geographical locations will be obtained by calling **[Foursquare](https://foursquare.com/) API**: We obtain datasets of food venues from Foursquare\n",
    "5. [Mapbox](https://www.mapbox.com/): Approximate addresses of each neighborhoods will be acquired by calling **[Mapbox](https://www.mapbox.com/) reverse geocoding API**. After we generated neighborhood centers we need to obtain their corresponding location. We use Mapbox reverse geocoding technique to obtain the address by calling API from Mapbox"
   ]
  },
  {
   "cell_type": "code",
   "execution_count": null,
   "metadata": {},
   "outputs": [],
   "source": []
  }
 ],
 "metadata": {
  "kernelspec": {
   "display_name": "Python",
   "language": "python",
   "name": "conda-env-python-py"
  },
  "language_info": {
   "codemirror_mode": {
    "name": "ipython",
    "version": 3
   },
   "file_extension": ".py",
   "mimetype": "text/x-python",
   "name": "python",
   "nbconvert_exporter": "python",
   "pygments_lexer": "ipython3",
   "version": "3.6.7"
  }
 },
 "nbformat": 4,
 "nbformat_minor": 4
}
